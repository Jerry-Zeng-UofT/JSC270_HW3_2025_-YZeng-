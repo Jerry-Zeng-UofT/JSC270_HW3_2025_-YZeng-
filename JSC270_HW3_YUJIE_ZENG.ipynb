{
  "nbformat": 4,
  "nbformat_minor": 0,
  "metadata": {
    "colab": {
      "provenance": [],
      "authorship_tag": "ABX9TyNuh9cGZQ26OIV0Tzd6xhpA",
      "include_colab_link": true
    },
    "kernelspec": {
      "name": "python3",
      "display_name": "Python 3"
    },
    "language_info": {
      "name": "python"
    }
  },
  "cells": [
    {
      "cell_type": "markdown",
      "metadata": {
        "id": "view-in-github",
        "colab_type": "text"
      },
      "source": [
        "<a href=\"https://colab.research.google.com/github/Jerry-Zeng-UofT/JSC270_HW3_2025_-YZeng-/blob/main/JSC270_HW3_YUJIE_ZENG.ipynb\" target=\"_parent\"><img src=\"https://colab.research.google.com/assets/colab-badge.svg\" alt=\"Open In Colab\"/></a>"
      ]
    },
    {
      "cell_type": "markdown",
      "source": [
        "# JSC270 Assignment 3 Coding Part Yujie Zeng"
      ],
      "metadata": {
        "id": "YMZFTRniikxb"
      }
    },
    {
      "cell_type": "code",
      "source": [
        "# import libraries\n",
        "\n",
        "import numpy as np\n",
        "import matplotlib.pyplot as plt\n",
        "import random"
      ],
      "metadata": {
        "id": "BZMisZOmjXte"
      },
      "execution_count": 5,
      "outputs": []
    },
    {
      "cell_type": "markdown",
      "source": [
        "## Part 1: Approximating pi"
      ],
      "metadata": {
        "id": "3iorBFKQi2EY"
      }
    },
    {
      "cell_type": "code",
      "source": [
        "# Part 1 A:\n",
        "# The Monte Carlo simulation back in stats is the method we use to estimate pi here.\n",
        "# The description of the method is in the pdf file.\n",
        "# A random seed is use to fix the result for report.\n",
        "\n",
        "np.random.seed(270)\n",
        "\n",
        "points = 1000000\n",
        "\n",
        "x = np.random.uniform(0, 1, points)\n",
        "y = np.random.uniform(0, 1, points)\n",
        "\n",
        "inside_circle = np.sum((x - 0.5)**2 + (y - 0.5)**2 <= 0.5 ** 2)\n",
        "\n",
        "fraction_inside = (inside_circle / points)\n",
        "\n",
        "pi_estimated = 4 * fraction_inside\n",
        "\n",
        "print(pi_estimated)"
      ],
      "metadata": {
        "id": "GNN3tPP3g2Vb",
        "colab": {
          "base_uri": "https://localhost:8080/"
        },
        "outputId": "412b3d7c-a951-4a62-eb55-03555f281dca"
      },
      "execution_count": 18,
      "outputs": [
        {
          "output_type": "stream",
          "name": "stdout",
          "text": [
            "3.143604\n"
          ]
        }
      ]
    },
    {
      "cell_type": "code",
      "source": [],
      "metadata": {
        "id": "xyCc10w7g8fc"
      },
      "execution_count": 2,
      "outputs": []
    }
  ]
}