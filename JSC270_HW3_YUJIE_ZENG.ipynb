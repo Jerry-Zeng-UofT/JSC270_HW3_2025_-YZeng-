{
  "nbformat": 4,
  "nbformat_minor": 0,
  "metadata": {
    "colab": {
      "provenance": [],
      "authorship_tag": "ABX9TyNdFndvBVYTrjcU18ucIHeJ",
      "include_colab_link": true
    },
    "kernelspec": {
      "name": "python3",
      "display_name": "Python 3"
    },
    "language_info": {
      "name": "python"
    }
  },
  "cells": [
    {
      "cell_type": "markdown",
      "metadata": {
        "id": "view-in-github",
        "colab_type": "text"
      },
      "source": [
        "<a href=\"https://colab.research.google.com/github/Jerry-Zeng-UofT/JSC270_HW3_2025_-YZeng-/blob/main/JSC270_HW3_YUJIE_ZENG.ipynb\" target=\"_parent\"><img src=\"https://colab.research.google.com/assets/colab-badge.svg\" alt=\"Open In Colab\"/></a>"
      ]
    },
    {
      "cell_type": "code",
      "execution_count": null,
      "metadata": {
        "id": "RiE6f7icgVqZ"
      },
      "outputs": [],
      "source": [
        "asdsa\n"
      ]
    },
    {
      "cell_type": "code",
      "source": [
        "is this saved?"
      ],
      "metadata": {
        "id": "GNN3tPP3g2Vb"
      },
      "execution_count": null,
      "outputs": []
    },
    {
      "cell_type": "code",
      "source": [],
      "metadata": {
        "id": "xyCc10w7g8fc"
      },
      "execution_count": null,
      "outputs": []
    }
  ]
}